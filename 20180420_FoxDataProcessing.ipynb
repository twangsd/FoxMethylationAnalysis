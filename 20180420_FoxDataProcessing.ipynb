{
 "cells": [
  {
   "cell_type": "markdown",
   "metadata": {},
   "source": [
    "## In this notebook I outline the process from raw idats to beta values "
   ]
  },
  {
   "cell_type": "markdown",
   "metadata": {},
   "source": [
    "<p> I will be following the protocol in Gross et al. Molecular Cell 2016. Breifly, raw beta values will be processed using the minfi R package. Specifically raw betas will be quantile normalized, cell estimates will be calculated and adjusted using the cell count frequency. The resulting matrix will be normalized using BMIQ, the horvath protocol, and the golden standard will be the median of Hannum values for 450K data</p>\n",
    "<p> After normalization, the human aging models will be applied and the consensus age will be determined.</p>\n",
    "<p> All the scripts below were done on a high-memory machine (250GB needs to be supplied to load all the idats together to process together. The dataframe manipulations were performed in python on the same node</p>"
   ]
  },
  {
   "cell_type": "code",
   "execution_count": 1,
   "metadata": {
    "collapsed": false
   },
   "outputs": [
    {
     "name": "stderr",
     "output_type": "stream",
     "text": [
      "/cellar/users/twang/anaconda/lib/python2.7/site-packages/statsmodels/compat/pandas.py:56: FutureWarning: The pandas.core.datetools module is deprecated and will be removed in a future version. Please use the pandas.tseries module instead.\n",
      "  from pandas.core import datetools\n"
     ]
    }
   ],
   "source": [
    "from __future__ import division\n",
    "import os\n",
    "import numpy as np\n",
    "import random \n",
    "import pandas as pd\n",
    "import itertools\n",
    "import subprocess\n",
    "import imp\n",
    "twto = imp.load_source('twto','/cellar/users/twang/scripts/twang_toolbox.py')\n",
    "import scipy.stats as stats\n",
    "import collections"
   ]
  },
  {
   "cell_type": "code",
   "execution_count": null,
   "metadata": {
    "collapsed": true
   },
   "outputs": [],
   "source": [
    "%%R\n",
    "library(minfi)\n",
    "#Read in Raw Idats\n",
    "baseDir <- '/cellar/users/twang/Data/nrnb01_nobackup/human_methylation/Fox'\n",
    "targets <- read.metharray.sheet(baseDir, pattern='2018_02_13_450K_infiniumhdmethSS.csv')\n",
    "#targets<-targets[which(targets$Basename!=\"character(0)\"),]\n",
    "rgSet <- read.metharray.exp(targets = targets)\n",
    "rawMset<-preprocessRaw(rgSet)\n",
    "rawBetas<-getBeta(rawMset)\n",
    "detectPval<-detectionP(rgSet)\n",
    "outf<-'/cellar/users/twang/Data/nrnb01_nobackup/human_methylation/Fox/files/FoxData_RawBetas_192FoxSamples.csv'\n",
    "write.csv(rawBetas,outf)\n",
    "outf<-'/cellar/users/twang/Data/nrnb01_nobackup/human_methylation/Fox/files/FoxData_detectionPValues_192FoxSamples.csv'\n",
    "write.csv(detectPval,outf)\n",
    "\n",
    "\n",
    "#Read in Hannum (the training dataset for the Hannum model)\n",
    "baseDir <- '/cellar/users/agross/Data/Hannum_Methylation/idats/'\n",
    "targets <- read.metharray.sheet(baseDir)\n",
    "rgSet_H <- read.metharray.exp(targets = targets)\n",
    "#Read in EPIC for another external control\n",
    "baseDir2 <- '/cellar/users/agross/Data/Methylation_Controls/EPIC_ITALY'\n",
    "targets2<-read.delim('/cellar/users/twang/Data/nrnb01_nobackup/human_methylation/EPICItalyTargets.txt',sep='\\t',header=TRUE,colClasses=\"character\")\n",
    "rgSet2 <- read.metharray.exp(targets = targets2)\n",
    "\n",
    "#Combine the datasets\n",
    "pData(rgSet)$Sample_Group<-as.character(pData(rgSet)$Sample_Group)\n",
    "rgSetC <-combine(rgSet,rgSet_H)\n",
    "rgSet3<-combine(rgSetC,rgSet2)\n",
    "#Fixes the datatype of the resulting rgSets so we can perform combine\n",
    "rawMset<-preprocessRaw(rgSet3)\n",
    "rawBetas<-getBeta(rawMset)\n",
    "detectPval<-detectionP(rgSet3)\n",
    "outf<-'/cellar/users/twang/Data/nrnb01_nobackup/human_methylation/Fox/files/FoxHannumEpicData_RawBetas.csv'\n",
    "write.csv(rawBetas,outf)\n",
    "outf<-'/cellar/users/twang/Data/nrnb01_nobackup/human_methylation/Fox/files/FoxHannumEpicData_detectionPValues.csv'\n",
    "write.csv(detectPval,outf)\n",
    "\n",
    "\n",
    "#Perform quantile normalization\n",
    "qnSetC<-preprocessQuantile(rgSetC)\n",
    "\n",
    "quantBetas<-getBeta(qnSetC)\n",
    "outf<-'/cellar/users/twang/Data/nrnb01_nobackup/human_methylation/Fox/files/FoxData_QuantNormedBetas.csv'\n",
    "write.csv(quantBetas,outf)\n",
    "\n",
    "#estimate cell counts\n",
    "counts<-estimateCellCounts(rgSetC)\n",
    "outf<-'/cellar/users/twang/Data/nrnb01_nobackup/human_methylation/Fox/files/FoxData_cellCounts.csv'\n",
    "write.csv(counts,outf)\n",
    "\n",
    "\n",
    "qnSet3<-preprocessQuantile(rgSet3)\n",
    "quantBetas3<-getBeta(qnSet3)\n",
    "outf<-'/cellar/users/twang/Data/nrnb01_nobackup/human_methylation/Fox/files/FoxData_QuantNormedBetas_AddEpic.csv'\n",
    "write.csv(quantBetas3,outf)\n",
    "\n",
    "counts2<-estimateCellCounts(rgSet3)\n",
    "outf<-'/cellar/users/twang/Data/nrnb01_nobackup/human_methylation/Fox/files/FoxData_cellCounts_AddEpic.csv'\n",
    "write.csv(counts2,outf)"
   ]
  },
  {
   "cell_type": "code",
   "execution_count": null,
   "metadata": {
    "collapsed": true
   },
   "outputs": [],
   "source": [
    "#Format The files (back in python)\n",
    "betas = pd.read_csv('/cellar/users/twang/Data/nrnb01_nobackup/human_methylation/Fox/files/FoxData_QuantNormedBetas_AddEpic.csv',header=0,index_col=0,sep=',',engine='c')\n",
    "#Read in cell counts from minfi\n",
    "cell_counts_f = '/cellar/users/twang/Data/nrnb01_nobackup/human_methylation/Fox/files/FoxData_cellCounts_AddEpic.csv'\n",
    "cell_counts = pd.read_csv(cell_counts_f,header=0,index_col=0)\n",
    "\n",
    "#Read in the flow sorted data values\n",
    "hdffannot = '/cellar/users/agross/Data/methylation_annotation.h5'\n",
    "flowsorteddata = pd.read_hdf(hdffannot,'flow_sorted_data')\n",
    "cell_type = pd.read_hdf(hdffannot, 'label_map')\n",
    "#Use the methyatlation decomposition values and the percentages and adjust for the mean using the percentages of estimated cells\n",
    "n2 = flowsorteddata.groupby(cell_type, axis=1).mean()\n",
    "avg = n2[cell_counts.columns].dot(cell_counts.T)\n",
    "cc = avg.mean(1)\n",
    "adj = (betas - avg).add(cc, axis=0)\n",
    "adj = adj.dropna(how='all', axis=1)\n",
    "outf = '/cellar/users/twang/Data/nrnb01_nobackup/human_methylation/Fox/files/FoxData_QuantNormedBetas_AddEpic_adjusted.csv'\n",
    "adj.to_csv(outf,header=True,index=True)\n",
    "#Use the median of the hannum study to treat as the gold standard for more accurate age estimates\n",
    "hannum_inds = [x for x in adj.columns if not x.startswith('2008') and not x.startswith('GSM123')]\n",
    "gs = adj[hannum_inds].median(axis=1)\n",
    "order = adj.index\n",
    "gsf='/cellar/users/twang/Data/nrnb01_nobackup/human_methylation/Fox/files/Hannum_Median_450KCpGs_AdjustedQNBetas.csv'\n",
    "#Just making sure the order of the golden standard is the same as the betas ordering\n",
    "gs.loc[order].to_csv(gsf,sep=',',header=False,index=True)"
   ]
  },
  {
   "cell_type": "code",
   "execution_count": null,
   "metadata": {
    "collapsed": true
   },
   "outputs": [],
   "source": []
  },
  {
   "cell_type": "markdown",
   "metadata": {},
   "source": [
    "The version of R had to be downgraded to make sure WCGNA can install properly and can use the Horvath BMIQ. This is using R-version 3.2.4"
   ]
  },
  {
   "cell_type": "code",
   "execution_count": null,
   "metadata": {
    "collapsed": true
   },
   "outputs": [],
   "source": [
    "%%R#Back in R\n",
    "#Normalize Fox quantile normalized betas with Hannum and Epic together to Hannum's median values as the gold standard\n",
    "library(data.table)\n",
    "library('WGCNA')\n",
    "source('/cellar/users/twang/scripts/methylation_scripts/NORMALIZATION.R')\n",
    "gsf<-'/cellar/users/twang/Data/nrnb01_nobackup/human_methylation/Fox/files/Hannum_Median_450KCpGs_AdjustedQNBetas.csv'\n",
    "gs<-fread(gsf,header=FALSE,sep = ',')\n",
    "gs<-as.data.frame(gs)\n",
    "gsv <- gs['V2']\n",
    "gsvv <- t(gsv) \n",
    "betasf<-'/cellar/users/twang/Data/nrnb01_nobackup/human_methylation/Fox/files/FoxData_QuantNormedBetas_AddEpic_adjusted.csv'\n",
    "betas<-fread(betasf,header=TRUE,sep=',', data.table=TRUE)\n",
    "betas<-as.data.frame(betas)\n",
    "betasrm<-betas[, names(betas) !='V1']\n",
    "betasrm<-t(betasrm)\n",
    "datan<-BMIQcalibration(betasrm, gsvv)\n",
    "outf<-'/cellar/users/twang/Data/nrnb01_nobackup/human_methylation/Fox/files/FoxHannumEpic_BMIQ_QuantNormed_AdjustedBetas.csv'\n",
    "write.csv(datan,file=outf)"
   ]
  },
  {
   "cell_type": "code",
   "execution_count": 22,
   "metadata": {
    "collapsed": true
   },
   "outputs": [],
   "source": [
    "#Format The Fox covariates file (back in python)\n",
    "covariates_file = '/cellar/users/twang/Data/nrnb01_nobackup/human_methylation/Fox/MAMOA CBC methylome biometrics 41618.xlsx'\n",
    "covariates_fox = pd.read_excel(covariates_file,header=1,index_col=0)\n",
    "sample_mapping_f = '/cellar/users/twang/Data/nrnb01_nobackup/human_methylation/Fox/2018_02_13_450K_infiniumhdmethSS.csv'\n",
    "sample_mapping = pd.read_csv(sample_mapping_f,header=0,index_col=None,skiprows=range(7))\n",
    "covariates_fox = covariates_fox.loc[covariates_fox.index.difference(['Plate2'])]\n",
    "covariates_fox_samplesonly = covariates_fox[~covariates_fox.index.isnull()].copy(deep=True)\n",
    "sample_mapping['ID_Chip'] = ['{}_{}'.format(x,y) for x,y in sample_mapping[['Sentrix_ID','Sentrix_Position']].values] \n",
    "map_samples = {sample_mapping.loc[ind,'Sample_Name'].replace(' ',''):sample_mapping.loc[ind,'ID_Chip'] for ind in sample_mapping.index}\n",
    "covariates_fox_samplesonly['SampleName2Map'] = [x.replace('Extra','extra').replace(' ','') for x in covariates_fox_samplesonly.index]\n",
    "covariates_fox_samplesonly['ID_Chip'] = covariates_fox_samplesonly['SampleName2Map'].map(map_samples)\n",
    "covariates_fox_samplesonly['Sentrix_ID'] = [x.split('_')[0] for x in covariates_fox_samplesonly['ID_Chip'].values]\n",
    "covariates_fox_samplesonly['Sentrix_Position'] = [x.split('_')[1] for x in covariates_fox_samplesonly['ID_Chip'].values]\n",
    "outf = '/cellar/users/twang/Data/nrnb01_nobackup/human_methylation/Fox/files/FoxCovariates.txt'\n",
    "covariates_fox_samplesonly.to_csv(outf,sep='\\t',header=True,index=True,encoding='utf-8-sig')"
   ]
  },
  {
   "cell_type": "code",
   "execution_count": null,
   "metadata": {
    "collapsed": true
   },
   "outputs": [],
   "source": [
    "adj_betas = pd.read_csv('/cellar/users/twang/Data/nrnb01_nobackup/human_methylation/Fox/files/FoxHannumEpic_BMIQ_QuantNormed_AdjustedBetas.csv',header=0,index_col=0,sep=',',engine='c')\n",
    "gsf = '/cellar/users/twang/Data/nrnb01_nobackup/human_methylation/Fox/files/FoxData_QuantNormedBetas_AddEpic_adjusted.csv'\n",
    "gsf = '/cellar/users/twang/Data/nrnb01_nobackup/human_methylation/Fox/files/Hannum_Median_450KCpGs_AdjustedQNBetas.csv'\n",
    "gs = pd.read_csv(gsf,sep=',',header=None,index_col=0,engine='c')\n",
    "adj_betas.columns = gs.index"
   ]
  },
  {
   "cell_type": "code",
   "execution_count": 111,
   "metadata": {
    "collapsed": true
   },
   "outputs": [],
   "source": [
    "#Map the Hannum and Epic covariates\n",
    "outfcovars='/cellar/users/twang/Data/nrnb01_nobackup/human_methylation/children_methylation/data/HannumEpicGSE36054EMTAB4147_Covariates.csv'\n",
    "covariates_fox_f = '/cellar/users/twang/Data/nrnb01_nobackup/human_methylation/Fox/files/FoxCovariates.txt'\n",
    "\n",
    "covars = pd.read_csv(outfcovars,header=0,index_col=0)\n",
    "covariates_fox = pd.read_csv(covariates_fox_f, sep = '\\t',header = 0, index_col = 0)\n",
    "\n",
    "map_names = {ind:covars.loc[ind,'Sample_Name'] for ind in covars.index}\n",
    "map_names['F_BL'] = 'FX_BL'\n",
    "for ind in covariates_fox.index:\n",
    "    idchp = covariates_fox.loc[ind,'ID_Chip']\n",
    "    map_names[idchp] = ind"
   ]
  },
  {
   "cell_type": "code",
   "execution_count": 45,
   "metadata": {
    "collapsed": false
   },
   "outputs": [],
   "source": [
    "#Rename the columns to reflect the covariates index\n",
    "adj_betas.index = [map_names[x] for x in adj_betas.index ]"
   ]
  },
  {
   "cell_type": "code",
   "execution_count": null,
   "metadata": {
    "collapsed": true
   },
   "outputs": [],
   "source": [
    "hannum_epic_f = '/cellar/users/twang/Data/nrnb01_nobackup/dog_methylation/dogs_108/methyldfs_T2/analysis/deduped/HumanComparisons/train_data/AllAdults_BMIQ_DogSpace_5x_imputed_10permissing_30perSampsFilt_AdjBetas_AllSites.h5'\n",
    "hannum_epic_covs = pd.read_hdf(hannum_epic_f, 'covariates')"
   ]
  },
  {
   "cell_type": "code",
   "execution_count": 60,
   "metadata": {
    "collapsed": false
   },
   "outputs": [],
   "source": [
    "#Read in cell counts\n",
    "cell_counts_f = '/cellar/users/twang/Data/nrnb01_nobackup/human_methylation/Fox/files/FoxData_cellCounts_AddEpic.csv'\n",
    "cell_counts = pd.read_csv(cell_counts_f,header=0,index_col=0)\n",
    "cell_counts.index = [map_names[x] for x in cell_counts.index ]\n",
    "# Make a index to dataframe mapping\n",
    "map_study_ind = pd.Series(['Fox']*covariates_fox.shape[0]+['Hannum']*hannum_epic_covs[hannum_epic_covs['study']=='Hannum'].shape[0]+['Epic']*hannum_epic_covs[hannum_epic_covs['study']!='Hannum'].shape[0],\n",
    "                         index = covariates_fox.index.values.tolist()+hannum_epic_covs[hannum_epic_covs['study']=='Hannum'].index.values.tolist()+hannum_epic_covs[hannum_epic_covs['study']!='Hannum'].index.tolist())"
   ]
  },
  {
   "cell_type": "code",
   "execution_count": null,
   "metadata": {
    "collapsed": false
   },
   "outputs": [],
   "source": [
    "df_dict = {'adj_betas':adj_betas,'cell_counts':cell_counts,'covariates':covariates_fox,\n",
    "           'Other_Covariates':hannum_epic_covs,'study_index':map_study_ind,'qn_betas':betas.T,'adj_qn_betas':adj.T}\n",
    "\n",
    "outhdf = '/cellar/users/twang/Data/nrnb01_nobackup/human_methylation/Fox/files/FoxHannumEpic_BMIQ_QuantNormed_AdjustedBetas.h5'\n",
    "twto.save_hdf_file(df_dict,outhdf)"
   ]
  }
 ],
 "metadata": {
  "kernelspec": {
   "display_name": "Python 2",
   "language": "python",
   "name": "python2"
  },
  "language_info": {
   "codemirror_mode": {
    "name": "ipython",
    "version": 2
   },
   "file_extension": ".py",
   "mimetype": "text/x-python",
   "name": "python",
   "nbconvert_exporter": "python",
   "pygments_lexer": "ipython2",
   "version": "2.7.12"
  }
 },
 "nbformat": 4,
 "nbformat_minor": 0
}
